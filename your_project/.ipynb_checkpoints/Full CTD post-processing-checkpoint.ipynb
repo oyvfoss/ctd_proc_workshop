{
 "cells": [
  {
   "cell_type": "markdown",
   "id": "8a340355-392c-4be2-b2a7-4bbfd587f96e",
   "metadata": {},
   "source": [
    "# *Full* CTD processing example notebook\n",
    "\n",
    "Example notebook showing post-processing functionality for an example dataset.\n",
    "\n",
    "Shows a more complete processing workflow:\n",
    "\n",
    "- Load and join all CTD profiles from `.cnv`.\n",
    "- Remove unused fields.\n",
    "- Assign metadata.\n",
    "- Export to netCDF (and some other formats if we want). \n",
    "\n",
    "In this example, we will use the binned files from the **2019 Fram Strait cruise**. These files are located in the folder `cnv_files/`. I found them in `NPDATA/project/Fram_strait/SOURCE/CTD/fs_2019/`."
   ]
  },
  {
   "cell_type": "markdown",
   "id": "2d997552-a4d3-45e2-9a14-31a809e0a78d",
   "metadata": {},
   "source": [
    "### Initial imports\n",
    "\n",
    "Import the `oceanograpy.data.ctd` module. Also enable interactive visuals. "
   ]
  },
  {
   "cell_type": "code",
   "execution_count": null,
   "id": "b83e7f13-5f1e-4964-b52a-ef1bb9fbfe58",
   "metadata": {},
   "outputs": [],
   "source": [
    "from oceanograpy.data import ctd\n",
    "%matplotlib widget"
   ]
  },
  {
   "cell_type": "markdown",
   "id": "a6ac1425-f555-4eef-afe9-1ca259210c18",
   "metadata": {},
   "source": [
    "## 1. Load the data\n",
    "\n",
    "- Loading `.cnv` files\n",
    "- Structuring into an object `D`, containing all data variables from the file and with all the metadata we were able to retrieve."
   ]
  },
  {
   "cell_type": "code",
   "execution_count": null,
   "id": "eb79439a-ace7-4b42-bce6-709ce778a93d",
   "metadata": {},
   "outputs": [],
   "source": [
    "D = ctd.ctds_from_cnv_dir('cnv_files/')"
   ]
  },
  {
   "cell_type": "markdown",
   "id": "6fdae923-26aa-490c-8b92-cbec01db2619",
   "metadata": {},
   "source": [
    "*NOTE*: Occasionally, the `start_time` field in the `.cnv`s has a wacky value, e.g. `1-Jan-2000`. In this case, you may want to try setting `start_time_NMEA` flag. This will make the parser \n",
    "assign time based on the `NMEA UTC (Time)` field in the file header - if it exists.\n",
    "*Example:*\n",
    "\n",
    "    D = ctd.ctds_from_cnv_dir('input_files/', start_time_NMEA=True)"
   ]
  },
  {
   "cell_type": "markdown",
   "id": "368f61f8-54aa-4498-b2a6-a74a9a3223cd",
   "metadata": {},
   "source": [
    "## 2. Remove data fields we don't want to include\n",
    "\n",
    "The function `ctd.drop_vars_pick` lets us manually remove variables. \n",
    "\n",
    "Remove stuff we are *sure* we don't need, e.g. `SBE_FLAG`, `LATITUDE_SAMPLE`.."
   ]
  },
  {
   "cell_type": "code",
   "execution_count": null,
   "id": "9e705d38-770c-4716-a330-ae70035552b9",
   "metadata": {},
   "outputs": [],
   "source": [
    "D = ctd.drop_vars_pick(D)"
   ]
  },
  {
   "cell_type": "markdown",
   "id": "9df9c563-ce29-45bf-9d75-f1803c5b2da3",
   "metadata": {},
   "source": [
    "##### Apply some standard metadata \n",
    "(Update global and attributes including some NPI specific ones. Removes numbers if we only have one sensor e.g. (`TEMP1`). Adds NMDC keywords and time, lat/lon ranges, etc. Reorders the attributes.)"
   ]
  },
  {
   "cell_type": "code",
   "execution_count": null,
   "id": "43a78663-4cfd-4d1d-a93e-c6fd1dfa3230",
   "metadata": {},
   "outputs": [],
   "source": [
    "D = ctd.metadata_auto(D, NPI=True)"
   ]
  },
  {
   "cell_type": "markdown",
   "id": "e62887d7-afe3-436f-af2e-57dadcb41a01",
   "metadata": {},
   "source": [
    "## 3. Inspect the data\n",
    "\n",
    "At this pont, we want to look through he data we have - evaluate whether it looks good, and make edits if necessary. The `ctd` module contains various helper functions to facilitate this. If you want, you can of course do you own analysis/inspection here using python tools like `matplotlib`. \n",
    "\n",
    "In this step, we will not actually modify anything - we are *looking* at the data to see if we need to fix/change anything (see step 4)."
   ]
  },
  {
   "cell_type": "markdown",
   "id": "0ad86301-0215-43fa-847d-bdb957f5ae05",
   "metadata": {},
   "source": [
    "#### Inspect the data file\n",
    "Executing `D` will give a view of the dataset, allowing you to inspect data and metadata. It is an easy way to inspect the data/metadata. Also good to do this whenever you have made changes in order to check that the changes were effectuadet in the way you intended.  "
   ]
  },
  {
   "cell_type": "code",
   "execution_count": null,
   "id": "2c92746f-6dac-49b4-85e3-b41457e6eeaf",
   "metadata": {},
   "outputs": [],
   "source": [
    "D"
   ]
  },
  {
   "cell_type": "markdown",
   "id": "21c86655-bc7a-4e64-9820-6dc92c91442a",
   "metadata": {},
   "source": [
    "#### Look at a map of the cruise station\n",
    "A useful sanity check for the lon/lat fields."
   ]
  },
  {
   "cell_type": "code",
   "execution_count": null,
   "id": "1155a54f-03b2-455e-9b4a-d4b399292a2a",
   "metadata": {},
   "outputs": [],
   "source": [
    "ctd.map(D)"
   ]
  },
  {
   "cell_type": "markdown",
   "id": "5f4fd6af-ac18-40ed-9684-8a3f60fdd3a4",
   "metadata": {},
   "source": [
    "#### Contour plot the data\n",
    "Useful to inspect the variables in the file - usually a good way to see if something is very wrong. "
   ]
  },
  {
   "cell_type": "code",
   "execution_count": null,
   "id": "dd6193c4-cd64-4107-8c2d-6995ab98dfbe",
   "metadata": {},
   "outputs": [],
   "source": [
    "ctd.contour(D)"
   ]
  },
  {
   "cell_type": "markdown",
   "id": "585ee0f3-f5aa-48ec-a29a-9a5a4a27b6cb",
   "metadata": {},
   "source": [
    "#### Plot data profiles\n",
    "\n",
    "Look through the individual profiles. Before pulishing, it is a good idea to have had at least a quick look at all profiles."
   ]
  },
  {
   "cell_type": "code",
   "execution_count": null,
   "id": "5a0e74c2-6a24-43f8-8e5c-27a1b223018a",
   "metadata": {},
   "outputs": [],
   "source": [
    "ctd.inspect_profiles(D)"
   ]
  },
  {
   "cell_type": "markdown",
   "id": "3e7074be-61eb-4dd4-b1f9-ea396fcf2030",
   "metadata": {},
   "source": [
    "#### Compare dual sensors\n",
    "\n",
    "Look through individual profiles of dual sensors (e.g. primary and secondary salinity)."
   ]
  },
  {
   "cell_type": "code",
   "execution_count": null,
   "id": "13fa487f-fb9f-4b8a-ac8e-1e91904b860b",
   "metadata": {},
   "outputs": [],
   "source": [
    "ctd.inspect_dual_sensors(D)"
   ]
  },
  {
   "cell_type": "markdown",
   "id": "48ac27e2-9f83-4474-9100-c962dd4dd558",
   "metadata": {},
   "source": [
    "## 4. Edit the data\n",
    "\n",
    "Now, we may want to make some changes to the file. This can include removing outliers, applying offsets, setting valid range thresholds, \n",
    "calculating calibrated `CHLA` from (uncalibrated)  `CHLA_fluorescence`.  "
   ]
  },
  {
   "cell_type": "markdown",
   "id": "9d283e3b-f331-408e-90cf-bb5554d642e0",
   "metadata": {},
   "source": [
    "#### Manually remove outliers \n",
    "\n",
    "Let's say we found an outlier in salinity or an area of a profile where the temperature sensor went wacky. When we have identified which variable we want to edit and at what station, we can run the following:\n",
    "\n",
    "    D = ctd.hand_remove_points(D, variable, station)"
   ]
  },
  {
   "cell_type": "code",
   "execution_count": null,
   "id": "1ac3e4a2-d4d1-4878-9959-6e4874e926f5",
   "metadata": {},
   "outputs": [],
   "source": [
    "D = ctd.hand_remove_points(D, 'PSAL1', 'Sta0202')"
   ]
  },
  {
   "cell_type": "markdown",
   "id": "84dd5ec5-fce5-4b3d-9800-c8c0abeaef5e",
   "metadata": {},
   "source": [
    "#### Apply threshold cutoffs to a variable\n",
    "\n",
    "Let's say that we see that a sensor occasionally jumps to a high, unrealistic value. We can remove (set to NaN) values outside an accepted range using the `ctd.apply_threshold()` function:"
   ]
  },
  {
   "cell_type": "code",
   "execution_count": null,
   "id": "02fe365f-dc36-407d-bc02-437cd57f728d",
   "metadata": {},
   "outputs": [],
   "source": [
    "from matplotlib import pyplot as plt\n",
    "plt.close('all')"
   ]
  },
  {
   "cell_type": "code",
   "execution_count": null,
   "id": "c195a340-09c5-4ddf-bc00-327b3622ca12",
   "metadata": {},
   "outputs": [],
   "source": [
    "D = ctd.apply_threshold(D)"
   ]
  },
  {
   "cell_type": "markdown",
   "id": "a1699397-1aa5-4250-ae73-59e2f64ec9b1",
   "metadata": {},
   "source": [
    "### Apply an offset to a variable\n",
    "\n",
    "We can apply a constant has an offset to a variable by using the `ctd.apply_offset()` function."
   ]
  },
  {
   "cell_type": "code",
   "execution_count": null,
   "id": "78f581b5-56b8-496b-85e6-5e557298861f",
   "metadata": {},
   "outputs": [],
   "source": [
    "D = ctd.apply_offset(D)"
   ]
  },
  {
   "cell_type": "markdown",
   "id": "9dd5b860-36fd-46d0-a2ef-23ebfcb9d536",
   "metadata": {},
   "source": [
    "#### Calibrate chlorophyll\n",
    "If we have coefficients from a fit of CTD Chlorophyll against water sample measurements, we can apply a calibration to chlorophyll using `ctd.calibrate_chl()`.\n",
    "\n",
    "This will create a new variable `CHLA` with calibrated chlorophyll, calculated as *CHLA = A x CHLA_from_CTD + B*.\n",
    "\n",
    "By default, *CHLA_from_CTD* is read from the field `CHLA_fluorescence` or `CHLA1_fluorescence`. If you want to se somethnin else (e.g. `CHLA2_fluorescence`), you can specify it by setting `chl_name_in = CHLA2_fluorescence`.\n",
    "\n",
    "If you want to automatically remove the old (uncalibrated chla) variable, you can set `remove_uncal=True`. \n",
    "\n"
   ]
  },
  {
   "cell_type": "code",
   "execution_count": null,
   "id": "9fb604e8-952e-43d0-95b8-61da344d4437",
   "metadata": {},
   "outputs": [],
   "source": [
    "A = 1.1 # Assume we know A and B\n",
    "B = 0.3\n",
    "\n",
    "D = ctd.calibrate_chl(D, A, B)"
   ]
  },
  {
   "cell_type": "markdown",
   "id": "eb50d422-c2dc-45f1-adf2-5eb1ffaa6786",
   "metadata": {},
   "source": [
    "### 5. Get the file up to conventions\n",
    "\n",
    "When we are happy with the data, we move on to the metadata. We will run a checker to see how out dataset complies with CF/ACDD, and add or modify metadata attributes until the\n",
    "convention checker says we a re good to go."
   ]
  },
  {
   "cell_type": "markdown",
   "id": "33a3551a-7ea6-4587-a632-c89ac1928a4d",
   "metadata": {},
   "source": [
    "##### Check what required metadata are missing\n",
    "\n",
    "Will run a convention checker [(this one)](https://github.com/cedadev/cf-checker) on out dataset. It will check against the conventions we have specified in our file metadata (default CTD-1.8 and ACDD-1.3).\n",
    "\n",
    "*Inspect the output carefully and make a note that we need to handle anything that gives errors or warnings*.\n"
   ]
  },
  {
   "cell_type": "code",
   "execution_count": null,
   "id": "dad6cecb-6db8-4c47-8f25-ddd4a4a2ed7d",
   "metadata": {},
   "outputs": [],
   "source": [
    "ctd.check_metadata(D)"
   ]
  },
  {
   "cell_type": "markdown",
   "id": "615ff3f1-3d38-4dc8-b450-6334628e0992",
   "metadata": {
    "jp-MarkdownHeadingCollapsed": true
   },
   "source": [
    "### (Some pointers about metadata attributes)\n"
   ]
  },
  {
   "cell_type": "markdown",
   "id": "a8ab1d3d-9bfd-4440-a93e-3a0c152f4f31",
   "metadata": {},
   "source": [
    "\n",
    "**Global attributes**\n",
    "- `summary` - This is an important metadata field. You should think if it as the \"abstract\" for your datasets. It can be multiple paragraphs if you want.\n",
    "- `id` - This is a unique identifyer for your dataset, e.g. `fram_strait_2014_ctd_data_v1`. It should be decriptive but not awfully long. For long-term projects, you may want to stick to naming conventions of previous datasets. Including a version suffix (a la `_v1`) is a good idea in case you end up updating the dataset in the future (we can't remove uploaded files from *data.npolar.no*). \n",
    "- `comment` - This is a recommended field. You can fill it with whatever you think might be useful for a user of the dataset to see.. I wouldn't worry too much about this field missing if there is nothing particular to comment on.\n",
    "- `processing_level` and `QC_indicator`. These can be specified on variable level or globally for the whole dataset. If you have these for each data variable, you do not need it for the whole datset (although the convention checker will warn you about it). Both fields have pre-determined value options like `['Raw instrument data data', 'Data manually reviewed'..]` and `['good data', 'probably good data'..]`. \n",
    "\n",
    "**Variable attributes**\n",
    "- `standard_name` - This is an important attribute. Standard names are strictly controlled by conventions (unlike `long_name` or variable names themselves, like `TEMP`). You can find the list of currently accepted standard names [here](http://cfconventions.org/Data/cf-standard-names/current/build/cf-standard-name-table.html).\n",
    "- `long_name` - This is not strictly controlled. Should be a human-readable description of what the variable is.\n",
    "\n",
    "**NOTE** All variables should at minimum have either `standard_name` or `long_name` (or, ideally, both). If there is no `standard_name`, be sure to include a `long_name`!"
   ]
  },
  {
   "cell_type": "markdown",
   "id": "c1ba19b8-7a9a-46f0-909f-c889f393fe7d",
   "metadata": {},
   "source": [
    "## Fill in missing metadata fields\n",
    "\n",
    "Use the helper functions below to change or add global or variable attributes."
   ]
  },
  {
   "cell_type": "markdown",
   "id": "2a3d7382-1b0f-4afa-82df-10bf234d09de",
   "metadata": {},
   "source": [
    "Add/modify **global** attributes"
   ]
  },
  {
   "cell_type": "code",
   "execution_count": null,
   "id": "0e44e9eb-1fc8-4c3a-affa-da1855fd901c",
   "metadata": {},
   "outputs": [],
   "source": [
    "D = ctd.set_attr_glob(D, 'title')"
   ]
  },
  {
   "cell_type": "markdown",
   "id": "63578315-2cf7-40bf-8640-03c1775905e3",
   "metadata": {},
   "source": [
    "Add/modify **variable** attributes"
   ]
  },
  {
   "cell_type": "code",
   "execution_count": null,
   "id": "a80ca096-dbdd-45e3-a8ce-53447670772e",
   "metadata": {},
   "outputs": [],
   "source": [
    "D = ctd.set_attr_var(D, 'TEMP', 'units')"
   ]
  },
  {
   "cell_type": "markdown",
   "id": "8ebc821c-0b5e-4d5b-844e-a3207fecc12b",
   "metadata": {},
   "source": [
    "\n",
    "### 6. Export the file\n",
    "\n",
    "When we are happy with both the data and metadata, we can export the file to netCDF. `ctd` also has helper functions for exporting some other useful formats.\n",
    "\n",
    "(*Note*: You can always save your current file to netCDF and load it later if you want to make further changes. To load a previously saved netCFD file, use `ctd.from_netcdf(path_to_netcdf_file)`)"
   ]
  },
  {
   "cell_type": "markdown",
   "id": "49fc6d1f-33b3-4885-aa5e-6ad7c4751651",
   "metadata": {},
   "source": [
    "#### Export to netCDF\n",
    "\n",
    "By default, the name of the netCDF file will be set to whatever is in the `id` global attribute field of your file (plus an `.nc` suffix ). If you want another file name, you can specify it by giving e.g.:\n",
    "\n",
    "`ctd.to_netcdf(D, './nc_final/', file_name ='my_file_name')`\n"
   ]
  },
  {
   "cell_type": "code",
   "execution_count": null,
   "id": "acf2108e-b027-4f55-87cf-55769c7d0e55",
   "metadata": {},
   "outputs": [],
   "source": [
    "ctd.to_netcdf(D, './nc_final/')"
   ]
  },
  {
   "cell_type": "markdown",
   "id": "88cf8188-bc2e-4b70-8bd0-6730b9fb4ed3",
   "metadata": {},
   "source": [
    "#### Export to some other formats (optional)\n",
    "\n",
    "We can also export to some other formats..\n",
    "\n",
    "**Matlab file**: (can export both a struct with the same structure as the netCDF, or a simplified version containing only the data) "
   ]
  },
  {
   "cell_type": "code",
   "execution_count": null,
   "id": "25d3d31c-9c45-4919-8799-d4e495ef20f3",
   "metadata": {},
   "outputs": [],
   "source": [
    "ctd.to_mat(D, './output_other/matfile_full.mat')\n",
    "ctd.to_mat(D, './output_other/matfile_simplified.mat', simplify=True)"
   ]
  },
  {
   "cell_type": "markdown",
   "id": "2f7aa860-2b01-4e4b-99da-6b20797e515d",
   "metadata": {},
   "source": [
    "**.csv**"
   ]
  },
  {
   "cell_type": "code",
   "execution_count": null,
   "id": "b1c53e9b-eac0-4f36-9157-18b61c67913f",
   "metadata": {},
   "outputs": [],
   "source": [
    "ctd.to_csv(D, './output_other/csv_file.csv')"
   ]
  },
  {
   "cell_type": "markdown",
   "id": "f5a21071-d300-4cd8-91fe-b5f013a043f0",
   "metadata": {},
   "source": [
    "**.txt file with metadata**"
   ]
  },
  {
   "cell_type": "code",
   "execution_count": null,
   "id": "6db5a865-b4cc-4a5c-8d6c-244c007613fc",
   "metadata": {},
   "outputs": [],
   "source": [
    "ctd.metadata_to_txt(D, './output_other/metadata.csv')"
   ]
  },
  {
   "cell_type": "markdown",
   "id": "5242af35-a452-4cda-9df6-8d2f69c915dc",
   "metadata": {},
   "source": [
    "# ..done! (maybe)\n",
    "\n",
    "You should now, in principle, have a complete netcdf file ready for publication. *However*, you should not trust this procedure blindly. For example, there could be issues with the input files, or errors/inadequacies in the `oceanograpy.ctd` functions. You may also have other preferences than the default settings of the `oceanograpy.ctd` module. Feel free to change things up using your tool of choice (I can recommend using `xarray` and `Jupyter`..), and make suggestions if you would like the `ctd` fuunctions to do anything differently! \n",
    "\n",
    "Bottom line: *Be sure to* **carefully inspect your netCDF file before publishing anything**! "
   ]
  }
 ],
 "metadata": {
  "kernelspec": {
   "display_name": "oyv",
   "language": "python",
   "name": "oyv"
  },
  "language_info": {
   "codemirror_mode": {
    "name": "ipython",
    "version": 3
   },
   "file_extension": ".py",
   "mimetype": "text/x-python",
   "name": "python",
   "nbconvert_exporter": "python",
   "pygments_lexer": "ipython3",
   "version": "3.11.5"
  }
 },
 "nbformat": 4,
 "nbformat_minor": 5
}
