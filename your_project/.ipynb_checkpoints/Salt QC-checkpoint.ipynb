{
 "cells": [
  {
   "cell_type": "markdown",
   "id": "8a340355-392c-4be2-b2a7-4bbfd587f96e",
   "metadata": {},
   "source": [
    "# *Your own dataset*: Salts QC\n",
    "\n",
    "This is a copy of the notebook we used for the Fram Strait 2019 data. Fill `your_project/btl_files/` with your own `.btl` files, and `logs/` with your own *log* and *salts* excel sheets to try the script on your own data.. \n",
    "\n",
    "Note: These functions *may* work when the excel sheets have the same format as the FS2019 cruise. They will *definitely not* work if the format is diffent.\n",
    "\n",
    "Example notebook showing a quick comparison of .btl files and salinometer measurements."
   ]
  },
  {
   "cell_type": "markdown",
   "id": "2d997552-a4d3-45e2-9a14-31a809e0a78d",
   "metadata": {},
   "source": [
    "### Initial imports\n",
    "\n",
    "Import the `oceanograpy.data.ship_ctd_tools.qc_salt` module. Also enable interactive visuals. "
   ]
  },
  {
   "cell_type": "code",
   "execution_count": null,
   "id": "b83e7f13-5f1e-4964-b52a-ef1bb9fbfe58",
   "metadata": {},
   "outputs": [],
   "source": [
    "from oceanograpy.data.ship_ctd_tools import qc_salt\n",
    "%matplotlib widget"
   ]
  },
  {
   "cell_type": "markdown",
   "id": "a6ac1425-f555-4eef-afe9-1ca259210c18",
   "metadata": {},
   "source": [
    "### 1. Load the data\n",
    "\n",
    "- Loading data from the three sources (log sheet, salts sheet, `.btl` files).\n",
    "- Structuring into an xarray Dataset `ds`."
   ]
  },
  {
   "cell_type": "code",
   "execution_count": null,
   "id": "f8f87829-e6d7-4714-8d50-1e1bd032682b",
   "metadata": {},
   "outputs": [],
   "source": [
    "log_excel_sheet = 'logs/YOUR_LOG.xls'\n",
    "salts_excel_sheet = 'logs/YOUR_SALTS.xls'\n",
    "btl_dir = 'btl_files/'"
   ]
  },
  {
   "cell_type": "code",
   "execution_count": null,
   "id": "eb79439a-ace7-4b42-bce6-709ce778a93d",
   "metadata": {},
   "outputs": [],
   "source": [
    "ds = qc_salt.setup_sal_qc(salts_excel_sheet, log_excel_sheet, btl_dir, )"
   ]
  },
  {
   "cell_type": "markdown",
   "id": "647aea9b-1c64-4936-b85d-86650d4631b3",
   "metadata": {},
   "source": [
    "### 2. Inspect the salinity differences"
   ]
  },
  {
   "cell_type": "code",
   "execution_count": null,
   "id": "d6110097-b162-4ae9-bf45-c102e4817d66",
   "metadata": {},
   "outputs": [],
   "source": [
    "qc_salt.plot_histograms(ds, min_pres = 300, N = 20)"
   ]
  },
  {
   "cell_type": "code",
   "execution_count": null,
   "id": "e9f98968-ed37-4731-898b-46a09cfd9c99",
   "metadata": {},
   "outputs": [],
   "source": [
    "qc_salt.plot_by_station(ds, psal_var = 'PSAL1')"
   ]
  }
 ],
 "metadata": {
  "kernelspec": {
   "display_name": "oyv",
   "language": "python",
   "name": "oyv"
  },
  "language_info": {
   "codemirror_mode": {
    "name": "ipython",
    "version": 3
   },
   "file_extension": ".py",
   "mimetype": "text/x-python",
   "name": "python",
   "nbconvert_exporter": "python",
   "pygments_lexer": "ipython3",
   "version": "3.11.5"
  }
 },
 "nbformat": 4,
 "nbformat_minor": 5
}
