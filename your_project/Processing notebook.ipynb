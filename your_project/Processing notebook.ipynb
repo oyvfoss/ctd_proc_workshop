{
 "cells": [
  {
   "cell_type": "markdown",
   "id": "7a5ed0b9-e374-4373-98a6-0bbff50d48d0",
   "metadata": {},
   "source": [
    "### Processing example notebook\n",
    "\n",
    "Example notebook: processing "
   ]
  },
  {
   "cell_type": "code",
   "execution_count": null,
   "id": "bf8240fe-07e2-44de-8b9c-a2056de11f56",
   "metadata": {},
   "outputs": [],
   "source": []
  }
 ],
 "metadata": {
  "kernelspec": {
   "display_name": "Python [conda env:ctdenv] *",
   "language": "python",
   "name": "conda-env-ctdenv-py"
  },
  "language_info": {
   "codemirror_mode": {
    "name": "ipython",
    "version": 3
   },
   "file_extension": ".py",
   "mimetype": "text/x-python",
   "name": "python",
   "nbconvert_exporter": "python",
   "pygments_lexer": "ipython3",
   "version": "3.11.5"
  }
 },
 "nbformat": 4,
 "nbformat_minor": 5
}
