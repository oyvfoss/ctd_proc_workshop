{
 "cells": [
  {
   "cell_type": "markdown",
   "id": "8a340355-392c-4be2-b2a7-4bbfd587f96e",
   "metadata": {},
   "source": [
    "# *Your own dataset*: Minimal CTD processing notebook\n",
    "\n",
    "This is a copy of the notebook we used for the Fram Strait 2019 data. Fill `your_project/cnv_files/` with your own `.cnv` files to try the script on your own data.. \n",
    "\n",
    "Shows a *minimal* processing workflow:\n",
    "\n",
    "- Load and join all CTD profiles from `.cnv`.\n",
    "- Remove unused fields.\n",
    "- Assign metadata.\n",
    "- Export to netCDF (and some other formats if we want). "
   ]
  },
  {
   "cell_type": "markdown",
   "id": "2d997552-a4d3-45e2-9a14-31a809e0a78d",
   "metadata": {},
   "source": [
    "### Initial imports\n",
    "\n",
    "Import the `oceanograpy.data.ctd` module. Also enable interactive visuals. "
   ]
  },
  {
   "cell_type": "code",
   "execution_count": null,
   "id": "b83e7f13-5f1e-4964-b52a-ef1bb9fbfe58",
   "metadata": {},
   "outputs": [],
   "source": [
    "from oceanograpy.data import ctd\n",
    "%matplotlib widget"
   ]
  },
  {
   "cell_type": "markdown",
   "id": "a6ac1425-f555-4eef-afe9-1ca259210c18",
   "metadata": {},
   "source": [
    "### 1. Load the data\n",
    "\n",
    "- Loading `.cnv` files\n",
    "- Structuring into an object `D`, containing all data variables from the file and with all the metadata we were able to retrieve."
   ]
  },
  {
   "cell_type": "code",
   "execution_count": null,
   "id": "eb79439a-ace7-4b42-bce6-709ce778a93d",
   "metadata": {},
   "outputs": [],
   "source": [
    "D = ctd.ctds_from_cnv_dir('cnv_files/')"
   ]
  },
  {
   "cell_type": "markdown",
   "id": "368f61f8-54aa-4498-b2a6-a74a9a3223cd",
   "metadata": {},
   "source": [
    "### 2. Remove data fields we don't want to include\n",
    "\n",
    "The function `ctd.drop_vars_pick` lets us manually remove variables. "
   ]
  },
  {
   "cell_type": "code",
   "execution_count": null,
   "id": "9e705d38-770c-4716-a330-ae70035552b9",
   "metadata": {},
   "outputs": [],
   "source": [
    "D = ctd.drop_vars_pick(D)"
   ]
  },
  {
   "cell_type": "markdown",
   "id": "eb50d422-c2dc-45f1-adf2-5eb1ffaa6786",
   "metadata": {},
   "source": [
    "### 3. Get the file up to conventions"
   ]
  },
  {
   "cell_type": "markdown",
   "id": "83e55f4d-c592-4c80-91ea-2add63f7f19f",
   "metadata": {},
   "source": [
    "##### Apply some standard metadata \n",
    "(Update global and attributes including some NPI specific ones. Removes numbers if we only have one sensor e.g. (`TEMP1`). Adds NMDC keywords and time, lat/lon ranges, etc. Reorders the attributes.)"
   ]
  },
  {
   "cell_type": "code",
   "execution_count": null,
   "id": "de739e46-9b52-44a0-8504-8cd3277aaa3f",
   "metadata": {},
   "outputs": [],
   "source": [
    "D = ctd.metadata_auto(D, NPI=True)"
   ]
  },
  {
   "cell_type": "markdown",
   "id": "33a3551a-7ea6-4587-a632-c89ac1928a4d",
   "metadata": {},
   "source": [
    "##### Check what required metadata are missing"
   ]
  },
  {
   "cell_type": "code",
   "execution_count": null,
   "id": "dad6cecb-6db8-4c47-8f25-ddd4a4a2ed7d",
   "metadata": {},
   "outputs": [],
   "source": [
    "ctd.check_metadata(D)"
   ]
  },
  {
   "cell_type": "markdown",
   "id": "c1ba19b8-7a9a-46f0-909f-c889f393fe7d",
   "metadata": {},
   "source": [
    "#### Fill in missing metadata fields"
   ]
  },
  {
   "cell_type": "markdown",
   "id": "2a3d7382-1b0f-4afa-82df-10bf234d09de",
   "metadata": {},
   "source": [
    "Add/modify global attributes"
   ]
  },
  {
   "cell_type": "code",
   "execution_count": null,
   "id": "0e44e9eb-1fc8-4c3a-affa-da1855fd901c",
   "metadata": {},
   "outputs": [],
   "source": [
    "D = ctd.set_attr_glob(D, 'processing_level')"
   ]
  },
  {
   "cell_type": "markdown",
   "id": "63578315-2cf7-40bf-8640-03c1775905e3",
   "metadata": {},
   "source": [
    "Add/modify variable attributes"
   ]
  },
  {
   "cell_type": "code",
   "execution_count": null,
   "id": "f84805b3-134e-4135-b039-e5c6e5355b84",
   "metadata": {},
   "outputs": [],
   "source": [
    "D = ctd.set_attr_var(D, 'TEMP1', 'units')"
   ]
  },
  {
   "cell_type": "markdown",
   "id": "b6c288ef-75f6-4f61-a166-4083aec7bb81",
   "metadata": {},
   "source": [
    "### 4. Save the output"
   ]
  },
  {
   "cell_type": "markdown",
   "id": "49fc6d1f-33b3-4885-aa5e-6ad7c4751651",
   "metadata": {},
   "source": [
    "Save to netCDF"
   ]
  },
  {
   "cell_type": "code",
   "execution_count": null,
   "id": "acf2108e-b027-4f55-87cf-55769c7d0e55",
   "metadata": {},
   "outputs": [],
   "source": [
    "ctd.to_netcdf(D, './nc_final/')"
   ]
  },
  {
   "cell_type": "markdown",
   "id": "88cf8188-bc2e-4b70-8bd0-6730b9fb4ed3",
   "metadata": {},
   "source": [
    "#### Export to some other formats (optional)\n",
    "\n",
    "We can also export to some other formats..\n",
    "\n",
    "**Matlab file**: (can export either a *struct* with the same structure as the netCDF, or a simplified version containing only the data) "
   ]
  },
  {
   "cell_type": "code",
   "execution_count": null,
   "id": "25d3d31c-9c45-4919-8799-d4e495ef20f3",
   "metadata": {},
   "outputs": [],
   "source": [
    "ctd.to_mat(D, './output_other/matfile_full')\n",
    "ctd.to_mat(D, './output_other/matfile_simplified', simplify=True)"
   ]
  },
  {
   "cell_type": "markdown",
   "id": "2f7aa860-2b01-4e4b-99da-6b20797e515d",
   "metadata": {},
   "source": [
    "**.csv**"
   ]
  },
  {
   "cell_type": "code",
   "execution_count": null,
   "id": "b1c53e9b-eac0-4f36-9157-18b61c67913f",
   "metadata": {},
   "outputs": [],
   "source": [
    "ctd.to_csv(D, './output_other/csv_file')"
   ]
  },
  {
   "cell_type": "markdown",
   "id": "f5a21071-d300-4cd8-91fe-b5f013a043f0",
   "metadata": {},
   "source": [
    "**.txt file with metadata**"
   ]
  },
  {
   "cell_type": "code",
   "execution_count": null,
   "id": "6db5a865-b4cc-4a5c-8d6c-244c007613fc",
   "metadata": {},
   "outputs": [],
   "source": [
    "ctd.metadata_to_txt(D, './output_other/metadata')"
   ]
  }
 ],
 "metadata": {
  "kernelspec": {
   "display_name": "oyv",
   "language": "python",
   "name": "oyv"
  },
  "language_info": {
   "codemirror_mode": {
    "name": "ipython",
    "version": 3
   },
   "file_extension": ".py",
   "mimetype": "text/x-python",
   "name": "python",
   "nbconvert_exporter": "python",
   "pygments_lexer": "ipython3",
   "version": "3.11.5"
  }
 },
 "nbformat": 4,
 "nbformat_minor": 5
}
