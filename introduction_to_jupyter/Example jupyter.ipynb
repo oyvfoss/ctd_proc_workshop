{
 "cells": [
  {
   "cell_type": "markdown",
   "id": "93a2f29a-97b0-4ddb-9b50-a58afbc9a1d1",
   "metadata": {},
   "source": [
    "### Working with netCDF data using *xarray*\n",
    "\n",
    "Example: Test file from the Fram Strait (found [here](https://data.npolar.no/dataset/049178d8-9bd3-42b3-a793-606690a5cd8a))"
   ]
  },
  {
   "cell_type": "code",
   "execution_count": null,
   "id": "f5860c51-e3f2-4b25-b8c1-0dc8e92f48da",
   "metadata": {},
   "outputs": [],
   "source": [
    "import xarray as xr"
   ]
  },
  {
   "cell_type": "code",
   "execution_count": 16,
   "id": "68158cc3-b540-4ef0-9b14-953ec2b58d02",
   "metadata": {},
   "outputs": [],
   "source": [
    "d = xr.open_dataset('test_data/Fram_Strait_time-series_2003-2019-v1.0.nc')"
   ]
  },
  {
   "cell_type": "code",
   "execution_count": 18,
   "id": "613bf722-4390-479a-8dab-07634b290cf0",
   "metadata": {},
   "outputs": [
    {
     "data": {
      "text/plain": [
       "<matplotlib.collections.PathCollection at 0x7fc4ca996bd0>"
      ]
     },
     "execution_count": 18,
     "metadata": {},
     "output_type": "execute_result"
    }
   ],
   "source": [
    "d.plot.scatter(x='TIME', y = 'FWT',)"
   ]
  },
  {
   "cell_type": "markdown",
   "id": "f4a84590-ddda-4ec9-9482-76ea8b209246",
   "metadata": {
    "editable": true,
    "slideshow": {
     "slide_type": ""
    },
    "tags": []
   },
   "source": [
    "### Working with remote data"
   ]
  },
  {
   "cell_type": "code",
   "execution_count": 12,
   "id": "5a3b7509-aa65-45b5-8d87-733949bab768",
   "metadata": {},
   "outputs": [],
   "source": [
    "opendap_sst_url = 'http://test.opendap.org/dap/data/nc/sst.mnmean.nc.gz'"
   ]
  },
  {
   "cell_type": "code",
   "execution_count": 13,
   "id": "ab3e0852-034a-46c0-b860-e9f873f92a8a",
   "metadata": {},
   "outputs": [],
   "source": [
    "N = xr.open_dataset(opendap_sst_url)"
   ]
  },
  {
   "cell_type": "code",
   "execution_count": null,
   "id": "c3f599a9-cb6e-4354-970d-f1e7bace8cba",
   "metadata": {},
   "outputs": [],
   "source": []
  }
 ],
 "metadata": {
  "kernelspec": {
   "display_name": "ctdenv",
   "language": "python",
   "name": "ctdenv"
  },
  "language_info": {
   "codemirror_mode": {
    "name": "ipython",
    "version": 3
   },
   "file_extension": ".py",
   "mimetype": "text/x-python",
   "name": "python",
   "nbconvert_exporter": "python",
   "pygments_lexer": "ipython3",
   "version": "3.11.5"
  }
 },
 "nbformat": 4,
 "nbformat_minor": 5
}
