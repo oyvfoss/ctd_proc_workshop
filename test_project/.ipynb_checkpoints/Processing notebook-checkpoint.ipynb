{
 "cells": [
  {
   "cell_type": "markdown",
   "id": "7a5ed0b9-e374-4373-98a6-0bbff50d48d0",
   "metadata": {},
   "source": [
    "# Processing example notebook\n",
    "\n",
    "Example notebook showing the base post-processing functionality for an example dataset.\n",
    "\n",
    "In this example, we will use the binned files from the **2020 Fram Strait cruise**. These files are located in the folder `cnv_input`.\n",
    "\n",
    "##### Structure:\n",
    "\n",
    "-  Load the data\n",
    "-  Finally, we will export the file to netcdf as well as `.mat` and `.csv`."
   ]
  },
  {
   "cell_type": "markdown",
   "id": "2d997552-a4d3-45e2-9a14-31a809e0a78d",
   "metadata": {},
   "source": [
    "### Initial imports\n",
    "\n",
    "Import the `oceanograpy.data.ctd` module which is \n",
    "\n",
    "We also import some other stuff that is useful for plotting, etc, and enable interactive plotting in the notebook. "
   ]
  },
  {
   "cell_type": "code",
   "execution_count": 9,
   "id": "b83e7f13-5f1e-4964-b52a-ef1bb9fbfe58",
   "metadata": {},
   "outputs": [],
   "source": [
    "from oceanograpy.data import ctd\n",
    "\n",
    "%matplotlib widget"
   ]
  },
  {
   "cell_type": "code",
   "execution_count": 10,
   "id": "49a9ceda-571b-4500-8671-dab27ec76748",
   "metadata": {},
   "outputs": [],
   "source": [
    "from oceanograpy.io import sbe\n",
    "from oceanograpy.data.ship_ctd_tools import _ctd_tools as tools\n",
    "import importlib as imp\n",
    "import glob2"
   ]
  },
  {
   "cell_type": "code",
   "execution_count": 13,
   "id": "77ef541d-68da-476e-bf6e-c83651cddb70",
   "metadata": {},
   "outputs": [
    {
     "data": {
      "text/plain": [
       "<module 'oceanograpy.data.ctd' from '/home/oyvindl/mambaforge/envs/ctdenv/lib/python3.11/site-packages/oceanograpy/data/ctd.py'>"
      ]
     },
     "execution_count": 13,
     "metadata": {},
     "output_type": "execute_result"
    }
   ],
   "source": [
    "imp.reload(tools)\n",
    "imp.reload(sbe)\n",
    "imp.reload(ctd)"
   ]
  },
  {
   "cell_type": "markdown",
   "id": "a6ac1425-f555-4eef-afe9-1ca259210c18",
   "metadata": {},
   "source": [
    "### 1. Load the data\n",
    "\n",
    "- Loading `.cnv` files\n",
    "- Structuring into an object `D`, containing all data variables from the file and with all the metadata we were able to retrieve.\n",
    "    -  From here, we will modify `D` until we are happy with the data and metadata.\n"
   ]
  },
  {
   "cell_type": "code",
   "execution_count": 14,
   "id": "2a4c6743-363f-4a9e-b6b8-cedcef97250e",
   "metadata": {},
   "outputs": [],
   "source": [
    "fn = 'cnv_input/sta0088_bin.cnv'"
   ]
  },
  {
   "cell_type": "code",
   "execution_count": 15,
   "id": "f4b0f2b2-c409-4884-b22e-4f1e846fbe96",
   "metadata": {},
   "outputs": [
    {
     "ename": "NameError",
     "evalue": "name 'flist' is not defined",
     "output_type": "error",
     "traceback": [
      "\u001b[0;31m---------------------------------------------------------------------------\u001b[0m",
      "\u001b[0;31mNameError\u001b[0m                                 Traceback (most recent call last)",
      "Cell \u001b[0;32mIn[15], line 1\u001b[0m\n\u001b[0;32m----> 1\u001b[0m \u001b[43mflist\u001b[49m\n",
      "\u001b[0;31mNameError\u001b[0m: name 'flist' is not defined"
     ]
    }
   ],
   "source": [
    "flist"
   ]
  },
  {
   "cell_type": "code",
   "execution_count": 5,
   "id": "1f070fbd-b44d-49db-aba3-0fd4a419b2e0",
   "metadata": {},
   "outputs": [
    {
     "ename": "NameError",
     "evalue": "name 'flist' is not defined",
     "output_type": "error",
     "traceback": [
      "\u001b[0;31m---------------------------------------------------------------------------\u001b[0m",
      "\u001b[0;31mNameError\u001b[0m                                 Traceback (most recent call last)",
      "Cell \u001b[0;32mIn[5], line 1\u001b[0m\n\u001b[0;32m----> 1\u001b[0m \u001b[43mflist\u001b[49m\u001b[38;5;241m.\u001b[39mremove(\u001b[38;5;124m'\u001b[39m\u001b[38;5;124mcnv_input/sta0089_bin.cnv\u001b[39m\u001b[38;5;124m'\u001b[39m)\n",
      "\u001b[0;31mNameError\u001b[0m: name 'flist' is not defined"
     ]
    }
   ],
   "source": [
    "flist.removea('cnv_input/sta0089_bin.cnv')"
   ]
  },
  {
   "cell_type": "code",
   "execution_count": 114,
   "id": "c7ccfc7b-1449-4288-96bf-002379becca0",
   "metadata": {},
   "outputs": [],
   "source": [
    "hd = sbe.read_header(fn)"
   ]
  },
  {
   "cell_type": "code",
   "execution_count": 6,
   "id": "cb280abb-f738-4749-ac74-38889de9e5df",
   "metadata": {},
   "outputs": [
    {
     "data": {
      "text/plain": [
       "<module 'oceanograpy.data.ship_ctd_tools._ctd_tools' from '/home/oyvindl/mambaforge/envs/ctdenv/lib/python3.11/site-packages/oceanograpy/data/ship_ctd_tools/_ctd_tools.py'>"
      ]
     },
     "execution_count": 6,
     "metadata": {},
     "output_type": "execute_result"
    }
   ],
   "source": [
    "imp.reload(tools)\n"
   ]
  },
  {
   "cell_type": "code",
   "execution_count": 7,
   "id": "234fe63c-80f0-41b8-93b6-cb020ea61d50",
   "metadata": {},
   "outputs": [
    {
     "ename": "NameError",
     "evalue": "name 'flist' is not defined",
     "output_type": "error",
     "traceback": [
      "\u001b[0;31m---------------------------------------------------------------------------\u001b[0m",
      "\u001b[0;31mNameError\u001b[0m                                 Traceback (most recent call last)",
      "Cell \u001b[0;32mIn[7], line 2\u001b[0m\n\u001b[1;32m      1\u001b[0m ds \u001b[38;5;241m=\u001b[39m []\n\u001b[0;32m----> 2\u001b[0m \u001b[38;5;28;01mfor\u001b[39;00m fn \u001b[38;5;129;01min\u001b[39;00m \u001b[43mflist\u001b[49m:\n\u001b[1;32m      3\u001b[0m     d \u001b[38;5;241m=\u001b[39m sbe\u001b[38;5;241m.\u001b[39mread_cnv(fn,station_from_filename\u001b[38;5;241m=\u001b[39m\u001b[38;5;28;01mTrue\u001b[39;00m, time_dim \u001b[38;5;241m=\u001b[39m \u001b[38;5;28;01mTrue\u001b[39;00m)\n\u001b[1;32m      4\u001b[0m     ds \u001b[38;5;241m+\u001b[39m\u001b[38;5;241m=\u001b[39m [d]\n",
      "\u001b[0;31mNameError\u001b[0m: name 'flist' is not defined"
     ]
    }
   ],
   "source": [
    "ds = []\n",
    "for fn in flist:\n",
    "    d = sbe.read_cnv(fn,station_from_filename=True, time_dim = True)\n",
    "    ds += [d]\n",
    "    tools.join_cruise(ds,\n",
    "        verbose=True)\n"
   ]
  },
  {
   "cell_type": "code",
   "execution_count": 19,
   "id": "da473d32-4ac3-47d1-b51e-d534877356db",
   "metadata": {},
   "outputs": [
    {
     "data": {
      "text/plain": [
       "\u001b[0;31mSignature:\u001b[0m\n",
       "\u001b[0mctd\u001b[0m\u001b[0;34m.\u001b[0m\u001b[0mctds_from_cnv_dir\u001b[0m\u001b[0;34m(\u001b[0m\u001b[0;34m\u001b[0m\n",
       "\u001b[0;34m\u001b[0m    \u001b[0mpath\u001b[0m\u001b[0;34m:\u001b[0m \u001b[0mstr\u001b[0m\u001b[0;34m,\u001b[0m\u001b[0;34m\u001b[0m\n",
       "\u001b[0;34m\u001b[0m    \u001b[0mstation_from_filename\u001b[0m\u001b[0;34m:\u001b[0m \u001b[0mbool\u001b[0m \u001b[0;34m=\u001b[0m \u001b[0;32mFalse\u001b[0m\u001b[0;34m,\u001b[0m\u001b[0;34m\u001b[0m\n",
       "\u001b[0;34m\u001b[0m    \u001b[0mtime_warnings\u001b[0m\u001b[0;34m:\u001b[0m \u001b[0mbool\u001b[0m \u001b[0;34m=\u001b[0m \u001b[0;32mTrue\u001b[0m\u001b[0;34m,\u001b[0m\u001b[0;34m\u001b[0m\n",
       "\u001b[0;34m\u001b[0m    \u001b[0mverbose\u001b[0m\u001b[0;34m:\u001b[0m \u001b[0mbool\u001b[0m \u001b[0;34m=\u001b[0m \u001b[0;32mTrue\u001b[0m\u001b[0;34m,\u001b[0m\u001b[0;34m\u001b[0m\n",
       "\u001b[0;34m\u001b[0m\u001b[0;34m)\u001b[0m \u001b[0;34m->\u001b[0m \u001b[0mxarray\u001b[0m\u001b[0;34m.\u001b[0m\u001b[0mcore\u001b[0m\u001b[0;34m.\u001b[0m\u001b[0mdataset\u001b[0m\u001b[0;34m.\u001b[0m\u001b[0mDataset\u001b[0m\u001b[0;34m\u001b[0m\u001b[0;34m\u001b[0m\u001b[0m\n",
       "\u001b[0;31mSource:\u001b[0m   \n",
       "\u001b[0;32mdef\u001b[0m \u001b[0mctds_from_cnv_dir\u001b[0m\u001b[0;34m(\u001b[0m\u001b[0;34m\u001b[0m\n",
       "\u001b[0;34m\u001b[0m    \u001b[0mpath\u001b[0m\u001b[0;34m:\u001b[0m \u001b[0mstr\u001b[0m\u001b[0;34m,\u001b[0m\u001b[0;34m\u001b[0m\n",
       "\u001b[0;34m\u001b[0m    \u001b[0mstation_from_filename\u001b[0m\u001b[0;34m:\u001b[0m \u001b[0mbool\u001b[0m \u001b[0;34m=\u001b[0m \u001b[0;32mFalse\u001b[0m\u001b[0;34m,\u001b[0m\u001b[0;34m\u001b[0m\n",
       "\u001b[0;34m\u001b[0m    \u001b[0mtime_warnings\u001b[0m\u001b[0;34m:\u001b[0m \u001b[0mbool\u001b[0m \u001b[0;34m=\u001b[0m \u001b[0;32mTrue\u001b[0m\u001b[0;34m,\u001b[0m\u001b[0;34m\u001b[0m\n",
       "\u001b[0;34m\u001b[0m    \u001b[0mverbose\u001b[0m\u001b[0;34m:\u001b[0m \u001b[0mbool\u001b[0m \u001b[0;34m=\u001b[0m \u001b[0;32mTrue\u001b[0m\u001b[0;34m\u001b[0m\n",
       "\u001b[0;34m\u001b[0m\u001b[0;34m)\u001b[0m \u001b[0;34m->\u001b[0m \u001b[0mxr\u001b[0m\u001b[0;34m.\u001b[0m\u001b[0mDataset\u001b[0m\u001b[0;34m:\u001b[0m\u001b[0;34m\u001b[0m\n",
       "\u001b[0;34m\u001b[0m    \u001b[0;34m\"\"\"\u001b[0m\n",
       "\u001b[0;34m    Create CTD datasets from CNV files in the specified path.\u001b[0m\n",
       "\u001b[0;34m\u001b[0m\n",
       "\u001b[0;34m    Parameters:\u001b[0m\n",
       "\u001b[0;34m    - path (str): Path to the CNV files.\u001b[0m\n",
       "\u001b[0;34m    - station_from_filename (bool): Whether to extract station information from filenames.\u001b[0m\n",
       "\u001b[0;34m    - time_warnings (bool): Enable/disable time-related warnings.\u001b[0m\n",
       "\u001b[0;34m    - verbose: If False, suppress some prints output.\u001b[0m\n",
       "\u001b[0;34m    Returns:\u001b[0m\n",
       "\u001b[0;34m    - D (xarray.Dataset): Joined CTD dataset.\u001b[0m\n",
       "\u001b[0;34m    \"\"\"\u001b[0m\u001b[0;34m\u001b[0m\n",
       "\u001b[0;34m\u001b[0m    \u001b[0mcnv_files\u001b[0m \u001b[0;34m=\u001b[0m \u001b[0mtools\u001b[0m\u001b[0;34m.\u001b[0m\u001b[0m_cnv_files_from_path\u001b[0m\u001b[0;34m(\u001b[0m\u001b[0mpath\u001b[0m\u001b[0;34m)\u001b[0m\u001b[0;34m\u001b[0m\n",
       "\u001b[0;34m\u001b[0m    \u001b[0mprofile_datasets\u001b[0m \u001b[0;34m=\u001b[0m \u001b[0mtools\u001b[0m\u001b[0;34m.\u001b[0m\u001b[0m_datasets_from_cnvlist\u001b[0m\u001b[0;34m(\u001b[0m\u001b[0;34m\u001b[0m\n",
       "\u001b[0;34m\u001b[0m        \u001b[0mcnv_files\u001b[0m\u001b[0;34m,\u001b[0m \u001b[0mverbose\u001b[0m \u001b[0;34m=\u001b[0m \u001b[0mverbose\u001b[0m\u001b[0;34m)\u001b[0m\u001b[0;34m\u001b[0m\n",
       "\u001b[0;34m\u001b[0m    \u001b[0mD\u001b[0m \u001b[0;34m=\u001b[0m \u001b[0mtools\u001b[0m\u001b[0;34m.\u001b[0m\u001b[0mjoin_cruise\u001b[0m\u001b[0;34m(\u001b[0m\u001b[0mprofile_datasets\u001b[0m\u001b[0;34m,\u001b[0m\u001b[0;34m\u001b[0m\n",
       "\u001b[0;34m\u001b[0m        \u001b[0mverbose\u001b[0m\u001b[0;34m=\u001b[0m\u001b[0mverbose\u001b[0m\u001b[0;34m)\u001b[0m\u001b[0;34m\u001b[0m\n",
       "\u001b[0;34m\u001b[0m\u001b[0;34m\u001b[0m\n",
       "\u001b[0;34m\u001b[0m    \u001b[0;32mreturn\u001b[0m \u001b[0mD\u001b[0m\u001b[0;34m\u001b[0m\u001b[0;34m\u001b[0m\u001b[0m\n",
       "\u001b[0;31mFile:\u001b[0m      ~/mambaforge/envs/ctdenv/lib/python3.11/site-packages/oceanograpy/data/ctd.py\n",
       "\u001b[0;31mType:\u001b[0m      function"
      ]
     },
     "metadata": {},
     "output_type": "display_data"
    }
   ],
   "source": [
    "ctd.ctds_from_cnv_dir??"
   ]
  },
  {
   "cell_type": "code",
   "execution_count": 16,
   "id": "bf8240fe-07e2-44de-8b9c-a2056de11f56",
   "metadata": {},
   "outputs": [
    {
     "name": "stdout",
     "output_type": "stream",
     "text": [
      "C1S_M cndc_sensor_2\n"
     ]
    },
    {
     "ename": "KeyError",
     "evalue": "'cndc_sensor_2'",
     "output_type": "error",
     "traceback": [
      "\u001b[0;31m---------------------------------------------------------------------------\u001b[0m",
      "\u001b[0;31mKeyError\u001b[0m                                  Traceback (most recent call last)",
      "Cell \u001b[0;32mIn[16], line 1\u001b[0m\n\u001b[0;32m----> 1\u001b[0m D \u001b[38;5;241m=\u001b[39m \u001b[43mctd\u001b[49m\u001b[38;5;241;43m.\u001b[39;49m\u001b[43mctds_from_cnv_dir\u001b[49m\u001b[43m(\u001b[49m\u001b[38;5;124;43m'\u001b[39;49m\u001b[38;5;124;43mcnv_input\u001b[39;49m\u001b[38;5;124;43m'\u001b[39;49m\u001b[43m)\u001b[49m\n",
      "File \u001b[0;32m~/mambaforge/envs/ctdenv/lib/python3.11/site-packages/oceanograpy/data/ctd.py:44\u001b[0m, in \u001b[0;36mctds_from_cnv_dir\u001b[0;34m(path, station_from_filename, time_warnings, verbose)\u001b[0m\n\u001b[1;32m     32\u001b[0m \u001b[38;5;250m\u001b[39m\u001b[38;5;124;03m\"\"\"\u001b[39;00m\n\u001b[1;32m     33\u001b[0m \u001b[38;5;124;03mCreate CTD datasets from CNV files in the specified path.\u001b[39;00m\n\u001b[1;32m     34\u001b[0m \n\u001b[0;32m   (...)\u001b[0m\n\u001b[1;32m     41\u001b[0m \u001b[38;5;124;03m- D (xarray.Dataset): Joined CTD dataset.\u001b[39;00m\n\u001b[1;32m     42\u001b[0m \u001b[38;5;124;03m\"\"\"\u001b[39;00m\n\u001b[1;32m     43\u001b[0m cnv_files \u001b[38;5;241m=\u001b[39m tools\u001b[38;5;241m.\u001b[39m_cnv_files_from_path(path)\n\u001b[0;32m---> 44\u001b[0m profile_datasets \u001b[38;5;241m=\u001b[39m \u001b[43mtools\u001b[49m\u001b[38;5;241;43m.\u001b[39;49m\u001b[43m_datasets_from_cnvlist\u001b[49m\u001b[43m(\u001b[49m\n\u001b[1;32m     45\u001b[0m \u001b[43m    \u001b[49m\u001b[43mcnv_files\u001b[49m\u001b[43m,\u001b[49m\u001b[43m \u001b[49m\u001b[43mverbose\u001b[49m\u001b[43m \u001b[49m\u001b[38;5;241;43m=\u001b[39;49m\u001b[43m \u001b[49m\u001b[43mverbose\u001b[49m\u001b[43m)\u001b[49m\n\u001b[1;32m     46\u001b[0m D \u001b[38;5;241m=\u001b[39m tools\u001b[38;5;241m.\u001b[39mjoin_cruise(profile_datasets,\n\u001b[1;32m     47\u001b[0m     verbose\u001b[38;5;241m=\u001b[39mverbose)\n\u001b[1;32m     49\u001b[0m \u001b[38;5;28;01mreturn\u001b[39;00m D\n",
      "File \u001b[0;32m~/mambaforge/envs/ctdenv/lib/python3.11/site-packages/oceanograpy/data/ship_ctd_tools/_ctd_tools.py:553\u001b[0m, in \u001b[0;36m_datasets_from_cnvlist\u001b[0;34m(cnv_list, station_from_filename, verbose)\u001b[0m\n\u001b[1;32m    547\u001b[0m \u001b[38;5;28;01mdef\u001b[39;00m \u001b[38;5;21m_datasets_from_cnvlist\u001b[39m(cnv_list, \n\u001b[1;32m    548\u001b[0m                            station_from_filename \u001b[38;5;241m=\u001b[39m \u001b[38;5;28;01mFalse\u001b[39;00m,\n\u001b[1;32m    549\u001b[0m                            verbose \u001b[38;5;241m=\u001b[39m \u001b[38;5;28;01mTrue\u001b[39;00m):\n\u001b[1;32m    550\u001b[0m \u001b[38;5;250m    \u001b[39m\u001b[38;5;124;03m'''\u001b[39;00m\n\u001b[1;32m    551\u001b[0m \u001b[38;5;124;03m    Get a list of profile xr.Datasets from a list of .cnv files. \u001b[39;00m\n\u001b[1;32m    552\u001b[0m \u001b[38;5;124;03m    '''\u001b[39;00m\n\u001b[0;32m--> 553\u001b[0m     dataset_list \u001b[38;5;241m=\u001b[39m \u001b[43m[\u001b[49m\u001b[43msbe\u001b[49m\u001b[38;5;241;43m.\u001b[39;49m\u001b[43mread_cnv\u001b[49m\u001b[43m(\u001b[49m\u001b[43mfn\u001b[49m\u001b[43m,\u001b[49m\u001b[43m \u001b[49m\u001b[43mtime_dim\u001b[49m\u001b[38;5;241;43m=\u001b[39;49m\u001b[38;5;28;43;01mTrue\u001b[39;49;00m\u001b[43m,\u001b[49m\u001b[43m \u001b[49m\n\u001b[1;32m    554\u001b[0m \u001b[43m                        \u001b[49m\u001b[43mstation_from_filename\u001b[49m\u001b[43m \u001b[49m\u001b[38;5;241;43m=\u001b[39;49m\u001b[43m \u001b[49m\u001b[43mstation_from_filename\u001b[49m\u001b[43m,\u001b[49m\n\u001b[1;32m    555\u001b[0m \u001b[43m                        \u001b[49m\u001b[43msuppress_time_warning\u001b[49m\u001b[38;5;241;43m=\u001b[39;49m\u001b[38;5;241;43m~\u001b[39;49m\u001b[43mverbose\u001b[49m\u001b[43m,\u001b[49m\n\u001b[1;32m    556\u001b[0m \u001b[43m                        \u001b[49m\u001b[43msuppress_latlon_warning\u001b[49m\u001b[38;5;241;43m=\u001b[39;49m\u001b[38;5;241;43m~\u001b[39;49m\u001b[43mverbose\u001b[49m\u001b[43m)\u001b[49m\u001b[43m \u001b[49m\n\u001b[1;32m    557\u001b[0m \u001b[43m                       \u001b[49m\u001b[38;5;28;43;01mfor\u001b[39;49;00m\u001b[43m \u001b[49m\u001b[43mfn\u001b[49m\u001b[43m \u001b[49m\u001b[38;5;129;43;01min\u001b[39;49;00m\u001b[43m \u001b[49m\u001b[43mcnv_list\u001b[49m\u001b[43m]\u001b[49m\n\u001b[1;32m    560\u001b[0m     \u001b[38;5;28;01mreturn\u001b[39;00m dataset_list\n",
      "File \u001b[0;32m~/mambaforge/envs/ctdenv/lib/python3.11/site-packages/oceanograpy/data/ship_ctd_tools/_ctd_tools.py:553\u001b[0m, in \u001b[0;36m<listcomp>\u001b[0;34m(.0)\u001b[0m\n\u001b[1;32m    547\u001b[0m \u001b[38;5;28;01mdef\u001b[39;00m \u001b[38;5;21m_datasets_from_cnvlist\u001b[39m(cnv_list, \n\u001b[1;32m    548\u001b[0m                            station_from_filename \u001b[38;5;241m=\u001b[39m \u001b[38;5;28;01mFalse\u001b[39;00m,\n\u001b[1;32m    549\u001b[0m                            verbose \u001b[38;5;241m=\u001b[39m \u001b[38;5;28;01mTrue\u001b[39;00m):\n\u001b[1;32m    550\u001b[0m \u001b[38;5;250m    \u001b[39m\u001b[38;5;124;03m'''\u001b[39;00m\n\u001b[1;32m    551\u001b[0m \u001b[38;5;124;03m    Get a list of profile xr.Datasets from a list of .cnv files. \u001b[39;00m\n\u001b[1;32m    552\u001b[0m \u001b[38;5;124;03m    '''\u001b[39;00m\n\u001b[0;32m--> 553\u001b[0m     dataset_list \u001b[38;5;241m=\u001b[39m [\u001b[43msbe\u001b[49m\u001b[38;5;241;43m.\u001b[39;49m\u001b[43mread_cnv\u001b[49m\u001b[43m(\u001b[49m\u001b[43mfn\u001b[49m\u001b[43m,\u001b[49m\u001b[43m \u001b[49m\u001b[43mtime_dim\u001b[49m\u001b[38;5;241;43m=\u001b[39;49m\u001b[38;5;28;43;01mTrue\u001b[39;49;00m\u001b[43m,\u001b[49m\u001b[43m \u001b[49m\n\u001b[1;32m    554\u001b[0m \u001b[43m                        \u001b[49m\u001b[43mstation_from_filename\u001b[49m\u001b[43m \u001b[49m\u001b[38;5;241;43m=\u001b[39;49m\u001b[43m \u001b[49m\u001b[43mstation_from_filename\u001b[49m\u001b[43m,\u001b[49m\n\u001b[1;32m    555\u001b[0m \u001b[43m                        \u001b[49m\u001b[43msuppress_time_warning\u001b[49m\u001b[38;5;241;43m=\u001b[39;49m\u001b[38;5;241;43m~\u001b[39;49m\u001b[43mverbose\u001b[49m\u001b[43m,\u001b[49m\n\u001b[1;32m    556\u001b[0m \u001b[43m                        \u001b[49m\u001b[43msuppress_latlon_warning\u001b[49m\u001b[38;5;241;43m=\u001b[39;49m\u001b[38;5;241;43m~\u001b[39;49m\u001b[43mverbose\u001b[49m\u001b[43m)\u001b[49m \n\u001b[1;32m    557\u001b[0m                        \u001b[38;5;28;01mfor\u001b[39;00m fn \u001b[38;5;129;01min\u001b[39;00m cnv_list]\n\u001b[1;32m    560\u001b[0m     \u001b[38;5;28;01mreturn\u001b[39;00m dataset_list\n",
      "File \u001b[0;32m~/mambaforge/envs/ctdenv/lib/python3.11/site-packages/oceanograpy/io/sbe.py:162\u001b[0m, in \u001b[0;36mread_cnv\u001b[0;34m(source_file, apply_flags, profile, time_dim, inspect_plot, start_scan, end_scan, suppress_time_warning, suppress_latlon_warning, start_time_NMEA, lat, lon, station, station_from_filename)\u001b[0m\n\u001b[1;32m    160\u001b[0m header_info \u001b[38;5;241m=\u001b[39m read_header(source_file)\n\u001b[1;32m    161\u001b[0m ds \u001b[38;5;241m=\u001b[39m _read_column_data_xr(source_file, header_info)\n\u001b[0;32m--> 162\u001b[0m ds \u001b[38;5;241m=\u001b[39m \u001b[43m_update_variables\u001b[49m\u001b[43m(\u001b[49m\u001b[43mds\u001b[49m\u001b[43m,\u001b[49m\u001b[43m \u001b[49m\u001b[43msource_file\u001b[49m\u001b[43m)\u001b[49m\n\u001b[1;32m    163\u001b[0m ds \u001b[38;5;241m=\u001b[39m _assign_specified_lat_lon_station(ds, lat, lon, station)\n\u001b[1;32m    164\u001b[0m ds \u001b[38;5;241m=\u001b[39m _convert_time(ds, header_info, \n\u001b[1;32m    165\u001b[0m                    suppress_time_warning \u001b[38;5;241m=\u001b[39m suppress_time_warning)\n",
      "File \u001b[0;32m~/mambaforge/envs/ctdenv/lib/python3.11/site-packages/oceanograpy/io/sbe.py:1167\u001b[0m, in \u001b[0;36m_update_variables\u001b[0;34m(ds, source_file)\u001b[0m\n\u001b[1;32m   1165\u001b[0m     \u001b[38;5;28;01mexcept\u001b[39;00m:\n\u001b[1;32m   1166\u001b[0m         \u001b[38;5;28mprint\u001b[39m(old_name_cap, sensor)\n\u001b[0;32m-> 1167\u001b[0m     sensor_caldates \u001b[38;5;241m+\u001b[39m\u001b[38;5;241m=\u001b[39m [\u001b[43msensor_info\u001b[49m\u001b[43m[\u001b[49m\u001b[43msensor\u001b[49m\u001b[43m]\u001b[49m[\u001b[38;5;124m'\u001b[39m\u001b[38;5;124mcal_date\u001b[39m\u001b[38;5;124m'\u001b[39m]]\n\u001b[1;32m   1169\u001b[0m ds[new_name]\u001b[38;5;241m.\u001b[39mattrs[\u001b[38;5;124m'\u001b[39m\u001b[38;5;124msensor_serial_number\u001b[39m\u001b[38;5;124m'\u001b[39m] \u001b[38;5;241m=\u001b[39m (\n\u001b[1;32m   1170\u001b[0m     \u001b[38;5;124m'\u001b[39m\u001b[38;5;124m, \u001b[39m\u001b[38;5;124m'\u001b[39m\u001b[38;5;241m.\u001b[39mjoin(sensor_SNs))\n\u001b[1;32m   1172\u001b[0m ds[new_name]\u001b[38;5;241m.\u001b[39mattrs[\u001b[38;5;124m'\u001b[39m\u001b[38;5;124msensor_calibration_date\u001b[39m\u001b[38;5;124m'\u001b[39m] \u001b[38;5;241m=\u001b[39m (\n\u001b[1;32m   1173\u001b[0m     \u001b[38;5;124m'\u001b[39m\u001b[38;5;124m, \u001b[39m\u001b[38;5;124m'\u001b[39m\u001b[38;5;241m.\u001b[39mjoin(sensor_caldates)) \n",
      "\u001b[0;31mKeyError\u001b[0m: 'cndc_sensor_2'"
     ]
    }
   ],
   "source": [
    "D = ctd.ctds_from_cnv_dir('cnv_input')"
   ]
  },
  {
   "cell_type": "code",
   "execution_count": null,
   "id": "4ea5fb34-e10b-493d-bbf4-eb86944f018d",
   "metadata": {},
   "outputs": [],
   "source": []
  }
 ],
 "metadata": {
  "kernelspec": {
   "display_name": "Python [conda env:ctdenv] *",
   "language": "python",
   "name": "conda-env-ctdenv-py"
  },
  "language_info": {
   "codemirror_mode": {
    "name": "ipython",
    "version": 3
   },
   "file_extension": ".py",
   "mimetype": "text/x-python",
   "name": "python",
   "nbconvert_exporter": "python",
   "pygments_lexer": "ipython3",
   "version": "3.11.5"
  }
 },
 "nbformat": 4,
 "nbformat_minor": 5
}
