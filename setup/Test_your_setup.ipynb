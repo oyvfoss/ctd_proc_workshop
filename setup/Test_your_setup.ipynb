{
 "cells": [
  {
   "cell_type": "markdown",
   "id": "fff81c6d-f6ea-4616-bddf-fe4418b829e3",
   "metadata": {},
   "source": [
    "## Quick test that the system setup looks ok\n"
   ]
  },
  {
   "cell_type": "markdown",
   "id": "5594f345-3c58-446e-9252-0d85fb945e02",
   "metadata": {},
   "source": [
    "#### 1. Test that we can import modules"
   ]
  },
  {
   "cell_type": "code",
   "execution_count": 1,
   "id": "ad90f9f8-ba60-4253-abbd-aa6479586b74",
   "metadata": {},
   "outputs": [],
   "source": [
    "from oceanograpy.data import ctd\n",
    "import xarray as xr"
   ]
  },
  {
   "cell_type": "markdown",
   "id": "55d2d625-a46d-4e91-ac13-1a1321a77504",
   "metadata": {},
   "source": [
    "#### 2. Test that we can use the widget backend"
   ]
  },
  {
   "cell_type": "code",
   "execution_count": 2,
   "id": "9fa93e72-4415-47f3-93a1-a64cacd4d431",
   "metadata": {},
   "outputs": [],
   "source": [
    "%matplotlib widget"
   ]
  },
  {
   "cell_type": "markdown",
   "id": "2d064650-4664-4f88-a185-91b7ade5d754",
   "metadata": {},
   "source": [
    "#### 3. Test that we can load some files"
   ]
  },
  {
   "cell_type": "code",
   "execution_count": 3,
   "id": "d1b87977-94b7-4011-99e1-04076dc51ac1",
   "metadata": {},
   "outputs": [
    {
     "name": "stdout",
     "output_type": "stream",
     "text": [
      "Loaded 22 profiles from list of Datasets.\n",
      "NOTE: It seems the input data already binned -> using preexisting binning.\n"
     ]
    },
    {
     "data": {
      "application/vnd.jupyter.widget-view+json": {
       "model_id": "af3d8edac94e43adb390cac0df905407",
       "version_major": 2,
       "version_minor": 0
      },
      "text/plain": [
       "Joining profiles together:   0%|          | 0/22 [00:00<?, ?it/s]"
      ]
     },
     "metadata": {},
     "output_type": "display_data"
    }
   ],
   "source": [
    "d = ctd.ctds_from_cnv_dir('../test_project/cnv_files/')"
   ]
  },
  {
   "cell_type": "code",
   "execution_count": 4,
   "id": "fa01a27e-cd2d-4e01-a610-f2b10a231eb3",
   "metadata": {},
   "outputs": [
    {
     "data": {
      "application/vnd.jupyter.widget-view+json": {
       "model_id": "f6117acd397f45e19d69411802dc3800",
       "version_major": 2,
       "version_minor": 0
      },
      "text/plain": [
       "VBox(children=(HBox(children=(Dropdown(description='Variable 1:', options=('TEMP1', 'TEMP2', 'CNDC1', 'CNDC2',…"
      ]
     },
     "metadata": {},
     "output_type": "display_data"
    }
   ],
   "source": [
    "ctd.contour(d)"
   ]
  },
  {
   "cell_type": "code",
   "execution_count": 5,
   "id": "6b54b27b-fe79-4c73-9e0e-1096de1c58bf",
   "metadata": {},
   "outputs": [
    {
     "data": {
      "application/vnd.jupyter.widget-view+json": {
       "model_id": "0d5381d694e9491787ddb83565e97fe7",
       "version_major": 2,
       "version_minor": 0
      },
      "text/plain": [
       "VBox(children=(HBox(children=(IntSlider(value=0, continuous_update=False, description='Profile #:', layout=Lay…"
      ]
     },
     "metadata": {},
     "output_type": "display_data"
    }
   ],
   "source": [
    "ctd.inspect_profiles(d)"
   ]
  },
  {
   "cell_type": "markdown",
   "id": "2eb52000-a971-4acb-a367-9a1ac53ba472",
   "metadata": {},
   "source": [
    "#### 4. Test that we can make an interactive inline plot "
   ]
  },
  {
   "cell_type": "code",
   "execution_count": null,
   "id": "d518a3ad-8804-47e7-846c-3ce6722af9c9",
   "metadata": {},
   "outputs": [],
   "source": [
    "ctd.map(d)"
   ]
  },
  {
   "cell_type": "markdown",
   "id": "834a3665-a5a8-42cd-8999-ec764015021f",
   "metadata": {},
   "source": [
    "#### 5. Test that we can load remote data"
   ]
  },
  {
   "cell_type": "code",
   "execution_count": null,
   "id": "1c757bec-4f48-4b08-b75b-f1447b9ddc53",
   "metadata": {},
   "outputs": [],
   "source": [
    "opendap_sst_url = 'http://test.opendap.org/dap/data/nc/sst.mnmean.nc.gz'"
   ]
  },
  {
   "cell_type": "code",
   "execution_count": null,
   "id": "52996acd-2358-4ec4-b0d9-40f840063d02",
   "metadata": {},
   "outputs": [],
   "source": [
    "N = xr.open_dataset(opendap_sst_url)"
   ]
  }
 ],
 "metadata": {
  "kernelspec": {
   "display_name": "ctdenv",
   "language": "python",
   "name": "ctdenv"
  },
  "language_info": {
   "codemirror_mode": {
    "name": "ipython",
    "version": 3
   },
   "file_extension": ".py",
   "mimetype": "text/x-python",
   "name": "python",
   "nbconvert_exporter": "python",
   "pygments_lexer": "ipython3",
   "version": "3.11.5"
  }
 },
 "nbformat": 4,
 "nbformat_minor": 5
}
